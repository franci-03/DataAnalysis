{
 "cells": [
  {
   "cell_type": "code",
   "execution_count": null,
   "metadata": {},
   "outputs": [],
   "source": [
    "import pandas as pd\n",
    "from semopy import Model, Optimizer\n",
    "from semopy.inspector import inspect\n",
    "\n",
    "# Replace 'path_to_your_dataset.csv' with the actual path to your dataset\n",
    "data = pd.read_csv('path_to_your_dataset.csv')\n",
    "\n",
    "# Define your SEM model specification according to your hypotheses\n",
    "# This is a simplified version; adjust it according to your actual model\n",
    "model_desc = \"\"\"\n",
    "    # Measurement models\n",
    "    JobCrafting =~ jc1 + jc2 + jc3\n",
    "    Autonomy =~ auto1 + auto2 + auto3\n",
    "    Competence =~ comp1 + comp2 + comp3\n",
    "    Openness =~ open1 + open2 + open3\n",
    "    Agreeableness =~ agree1 + agree2 + agree3\n",
    "    Conscientiousness =~ consc1 + consc2 + consc3\n",
    "    Extraversion =~ extra1 + extra2 + extra3\n",
    "    Neuroticism =~ neuro1 + neuro2 + neuro3\n",
    "    \n",
    "    # Structural model\n",
    "    JobCrafting ~ GenAI\n",
    "    JobCrafting ~ Autonomy + Competence\n",
    "    JobCrafting ~ Openness + Agreeableness + Conscientiousness + Extraversion + Neuroticism\n",
    "    JobCrafting ~ GenAI*Openness + GenAI*Agreeableness + GenAI*Conscientiousness + GenAI*Extraversion + GenAI*Neuroticism\n",
    "\"\"\"\n",
    "\n",
    "model = Model(model_desc)\n",
    "opt = Optimizer(model)\n",
    "res = opt.optimize(data) #or: mod.fit(data)\n",
    "results = inspect(opt) #or: inspect(mod, mode='mx'))\n",
    "print(results)\n",
    "\n",
    "# Calculate model fit indices\n",
    "stats = model.calc_stats()\n",
    "print(stats.T)\n",
    "\n"
   ]
  }
 ],
 "metadata": {
  "language_info": {
   "name": "python"
  }
 },
 "nbformat": 4,
 "nbformat_minor": 2
}
