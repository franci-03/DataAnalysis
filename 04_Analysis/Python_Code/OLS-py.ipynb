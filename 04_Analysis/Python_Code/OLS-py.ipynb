{
 "cells": [
  {
   "cell_type": "code",
   "execution_count": null,
   "metadata": {},
   "outputs": [],
   "source": [
    "# Import Necessary Libraries\n",
    "import pandas as pd\n",
    "import statsmodels.api as sm\n",
    "import statsmodels.formula.api as ols\n",
    "\n",
    "# Ensure that GenAI integration and personality traits are appropriately coded,\n",
    "# e.g., 0 for no integration and 1 for integration.\n",
    "# Make sure personality trait scores are scaled correctly, e.g., Likert scales.\n",
    "\n",
    "# Load dataset\n",
    "data = pd.read_csv('path_to_your_data.csv')\n",
    "\n",
    "#Define and Run Regression Models\n",
    "#Direct effects\n",
    "model_h1 = ols.ols('JobCrafting ~ GenAIUse', data=data).fit()\n",
    "print(model_h1.summary())\n",
    "\n",
    "# H2a and H2b: Influence of autonomy and competence needs\n",
    "model_h2a = ols.ols('JobCrafting ~ GenAIIntegration + Autonomy + GenAIIntegration*Autonomy', data=data).fit()\n",
    "print(model_h2a.summary())\n",
    "\n",
    "model_h2b = ols.ols('JobCrafting ~ GenAIIntegration + Competence + GenAIIntegration*Competence', data=data).fit()\n",
    "print(model_h2b.summary())\n",
    "\n",
    "#Everything at once\n",
    "model_h2 = smf.ols('JobCrafting ~ GenAIIntegration + Autonomy + Competence + GenAIIntegration*Autonomy + GenAIIntegration*Competence', data=data).fit()\n",
    "print(model_h2.summary())\n",
    "\n",
    "# Example for H3a (Openness as a moderator)\n",
    "data['GenAIUse_Openness'] = data['GenAIUse'] * data['Openness']\n",
    "model_h3a = ols.ols('JobCrafting ~ GenAIUse + Openness + GenAIUse_Openness', data=data).fit()\n",
    "print(model_h3a.summary())\n",
    "\n",
    "#Everything at once\n",
    "model_h3 = ols.ols('JobCrafting ~ Openness + GenAIIntegration*Openness + Agreeableness + GenAIIntegration*Agreeableness + Conscientiousness + GenAIIntegration*Conscientiousness + Extraversion + GenAIIntegration*Extraversion + Neuroticism + GenAIIntegration*Neuroticism', data=data).fit()\n",
    "print(model_h3.summary())\n",
    "\n"
   ]
  }
 ],
 "metadata": {
  "language_info": {
   "name": "python"
  }
 },
 "nbformat": 4,
 "nbformat_minor": 2
}
