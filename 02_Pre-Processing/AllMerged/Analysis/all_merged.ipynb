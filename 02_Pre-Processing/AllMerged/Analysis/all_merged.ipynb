{
 "cells": [
  {
   "cell_type": "markdown",
   "metadata": {},
   "source": [
    "# Merging all the Data from Lab and from Prolific\n",
    "\n",
    "v2_18.04.2024"
   ]
  },
  {
   "cell_type": "code",
   "execution_count": 1,
   "metadata": {},
   "outputs": [],
   "source": [
    "import pandas as pd"
   ]
  },
  {
   "cell_type": "code",
   "execution_count": 2,
   "metadata": {},
   "outputs": [],
   "source": [
    "# Load the datasets\n",
    "df1 = pd.read_csv('data_prep_analysis_lab.csv')\n",
    "df2 = pd.read_csv('data_prep_analysis_prolific.csv')"
   ]
  },
  {
   "cell_type": "code",
   "execution_count": 3,
   "metadata": {},
   "outputs": [],
   "source": [
    "# Identify all unique columns across both datasets\n",
    "all_columns = sorted(set(df1.columns).union(set(df2.columns)))"
   ]
  },
  {
   "cell_type": "code",
   "execution_count": 4,
   "metadata": {},
   "outputs": [],
   "source": [
    "# Add missing columns to each dataframe with filler values where necessary\n",
    "for col in all_columns:\n",
    "    if col not in df1.columns:\n",
    "        df1[col] = 0  \n",
    "    if col not in df2.columns:\n",
    "        df2[col] = 0"
   ]
  },
  {
   "cell_type": "code",
   "execution_count": 5,
   "metadata": {},
   "outputs": [],
   "source": [
    "# Reorder columns to match across both dataframes, using the sorted list of all unique columns\n",
    "df1 = df1.reindex(columns=all_columns)\n",
    "df2 = df2.reindex(columns=all_columns)"
   ]
  },
  {
   "cell_type": "code",
   "execution_count": 6,
   "metadata": {},
   "outputs": [],
   "source": [
    "# Concatenate the datasets\n",
    "merged_df = pd.concat([df1, df2], ignore_index=True)"
   ]
  },
  {
   "cell_type": "code",
   "execution_count": 7,
   "metadata": {},
   "outputs": [
    {
     "name": "stdout",
     "output_type": "stream",
     "text": [
      "MANI2    1\n",
      "dtype: int64\n"
     ]
    }
   ],
   "source": [
    "# Print the columns with missing values and the count of missing data in each column\n",
    "missing_values = merged_df.isnull().sum()\n",
    "print(missing_values[missing_values > 0])"
   ]
  },
  {
   "cell_type": "code",
   "execution_count": 8,
   "metadata": {},
   "outputs": [],
   "source": [
    "# Fill missing values\n",
    "merged_df.fillna(0, inplace=True)"
   ]
  },
  {
   "cell_type": "code",
   "execution_count": 9,
   "metadata": {},
   "outputs": [
    {
     "name": "stdout",
     "output_type": "stream",
     "text": [
      "['AGE', 'AILiteracyDet', 'AILiteracyEth', 'AILiteracyKno', 'AILiteracyUse', 'All_Prompts', 'Average_Word_Count_Prompts', 'CMV', 'Edu_Abgeschlossene_Berufsausbildung', 'Edu_Abitur_oder_Fachabitur', 'Edu_Bachelor', 'Edu_Doktortitel', 'Edu_Master', 'Edu_Mittlere_Reife_Realschulabschluss', 'First_Prompt_Word_Count', 'Gender_Männlich', 'Gender_Weiblich', 'Group_Nr', 'ID', 'JC1HRJD', 'JC1IStR', 'JC2HRJD', 'JC2IStR', 'MANI1', 'MANI2', 'NEOA', 'NEOC', 'NEOE', 'NEON', 'NEOO', 'NGAT', 'PGAT', 'PROD1', 'PROD2', 'Prompt_Count', 'Prompt_Support', 'SDT1AUT', 'SDT1COM', 'SDT2AUT', 'SDT2COM', 'SE1', 'SE2', 'TASKDIF1', 'TASKDIF2', 'Total_Word_Count_Prompt', 'WORK', 'time_demogr', 'time_pers', 'time_survey1', 'time_survey2', 'time_task1', 'time_task2', 'time_total']\n"
     ]
    }
   ],
   "source": [
    "# Print the list of column names\n",
    "column_names = merged_df.columns.tolist()\n",
    "print(column_names)"
   ]
  },
  {
   "cell_type": "code",
   "execution_count": 10,
   "metadata": {},
   "outputs": [],
   "source": [
    "# Change order of columns to a more desired one in order to get a better overview\n",
    "new_column_order = [\n",
    "    'ID', 'AGE', 'WORK', 'Gender_Männlich', 'Gender_Weiblich', \n",
    "    'Edu_Abgeschlossene_Berufsausbildung', 'Edu_Mittlere_Reife_Realschulabschluss', 'Edu_Abitur_oder_Fachabitur', 'Edu_Bachelor', 'Edu_Master', 'Edu_Doktortitel',\n",
    "    'AILiteracyUse', 'AILiteracyKno', 'AILiteracyDet', 'AILiteracyEth', 'PGAT', 'NGAT', 'CMV', \n",
    "    'NEOE', 'NEOA', 'NEOC', 'NEON', 'NEOO', 'Group_Nr', 'Prompt_Support',\n",
    "    'JC1IStR', 'JC1HRJD', 'SE1', 'SDT1AUT', 'SDT1COM', 'PROD1', 'TASKDIF1', 'MANI1',\n",
    "    'JC2IStR', 'JC2HRJD', 'SE2', 'SDT2AUT', 'SDT2COM', 'PROD2', 'TASKDIF2', 'MANI2', \n",
    "    'All_Prompts', 'Prompt_Count', 'Average_Word_Count_Prompts', 'First_Prompt_Word_Count', 'Total_Word_Count_Prompt',\n",
    "    'time_total', 'time_demogr', 'time_pers', 'time_task1', 'time_survey1', 'time_task2', 'time_survey2'\n",
    "]\n",
    "\n",
    "merged_df = merged_df[new_column_order]"
   ]
  },
  {
   "cell_type": "code",
   "execution_count": 11,
   "metadata": {},
   "outputs": [],
   "source": [
    "# Define the columns where replacements are needed\n",
    "columns_to_replace = [\n",
    "    'Gender_Männlich', 'Gender_Weiblich', \n",
    "    'Edu_Abgeschlossene_Berufsausbildung', 'Edu_Mittlere_Reife_Realschulabschluss', 'Edu_Abitur_oder_Fachabitur', 'Edu_Bachelor', 'Edu_Master', 'Edu_Doktortitel'\n",
    "]\n",
    "\n",
    "# Convert columns to integer type to ensure consistency\n",
    "for column in columns_to_replace:\n",
    "    merged_df[column] = merged_df[column].astype(int)\n",
    "\n",
    "# Replace \"false\" with 0 and \"true\" with 1 in these columns\n",
    "for column in columns_to_replace:\n",
    "    merged_df[column] = merged_df[column].replace({\"false\": 0, \"true\": 1})"
   ]
  },
  {
   "cell_type": "code",
   "execution_count": 12,
   "metadata": {},
   "outputs": [],
   "source": [
    "# After data was cleaned and ordered, the MANI-Checks were proofread again. All the following ID's used GPT twice (either bc of a technical problem or bc they thought they needed to use it on the browser) or had other issues\n",
    "\n",
    "#'ID' values with problems that need to be dropped\n",
    "ids_to_drop = [\n",
    "    'ZZKO1608', 'ZZSSA0301', 'ZZEKI2929', 'ZZEES0811', 'ZZAWA0212', 'ZZASE1301', 'ZZAGE607', 'ZZHMU0112', 'ZZOHA2303', 'ZZAWH2506', 'ZZAKY2105'\n",
    "]\n",
    "\n",
    "# Drop rows where the 'id' column is in the ids_to_drop list\n",
    "merged_df = merged_df[~merged_df['ID'].isin(ids_to_drop)]"
   ]
  },
  {
   "cell_type": "code",
   "execution_count": 16,
   "metadata": {},
   "outputs": [
    {
     "data": {
      "text/html": [
       "<div>\n",
       "<style scoped>\n",
       "    .dataframe tbody tr th:only-of-type {\n",
       "        vertical-align: middle;\n",
       "    }\n",
       "\n",
       "    .dataframe tbody tr th {\n",
       "        vertical-align: top;\n",
       "    }\n",
       "\n",
       "    .dataframe thead th {\n",
       "        text-align: right;\n",
       "    }\n",
       "</style>\n",
       "<table border=\"1\" class=\"dataframe\">\n",
       "  <thead>\n",
       "    <tr style=\"text-align: right;\">\n",
       "      <th></th>\n",
       "      <th>ID</th>\n",
       "      <th>AGE</th>\n",
       "      <th>WORK</th>\n",
       "      <th>Gender_Männlich</th>\n",
       "      <th>Gender_Weiblich</th>\n",
       "      <th>Edu_Abgeschlossene_Berufsausbildung</th>\n",
       "      <th>Edu_Mittlere_Reife_Realschulabschluss</th>\n",
       "      <th>Edu_Abitur_oder_Fachabitur</th>\n",
       "      <th>Edu_Bachelor</th>\n",
       "      <th>Edu_Master</th>\n",
       "      <th>...</th>\n",
       "      <th>Average_Word_Count_Prompts</th>\n",
       "      <th>First_Prompt_Word_Count</th>\n",
       "      <th>Total_Word_Count_Prompt</th>\n",
       "      <th>time_total</th>\n",
       "      <th>time_demogr</th>\n",
       "      <th>time_pers</th>\n",
       "      <th>time_task1</th>\n",
       "      <th>time_survey1</th>\n",
       "      <th>time_task2</th>\n",
       "      <th>time_survey2</th>\n",
       "    </tr>\n",
       "  </thead>\n",
       "  <tbody>\n",
       "    <tr>\n",
       "      <th>0</th>\n",
       "      <td>ABO2606</td>\n",
       "      <td>22.0</td>\n",
       "      <td>25.0</td>\n",
       "      <td>1</td>\n",
       "      <td>0</td>\n",
       "      <td>0</td>\n",
       "      <td>0</td>\n",
       "      <td>0</td>\n",
       "      <td>1</td>\n",
       "      <td>0</td>\n",
       "      <td>...</td>\n",
       "      <td>39.333333</td>\n",
       "      <td>100.0</td>\n",
       "      <td>118.0</td>\n",
       "      <td>35.038667</td>\n",
       "      <td>9.134167</td>\n",
       "      <td>1.056333</td>\n",
       "      <td>11.980833</td>\n",
       "      <td>1.290833</td>\n",
       "      <td>11.509667</td>\n",
       "      <td>0.066833</td>\n",
       "    </tr>\n",
       "    <tr>\n",
       "      <th>1</th>\n",
       "      <td>APE2704</td>\n",
       "      <td>20.0</td>\n",
       "      <td>15.0</td>\n",
       "      <td>1</td>\n",
       "      <td>0</td>\n",
       "      <td>0</td>\n",
       "      <td>0</td>\n",
       "      <td>1</td>\n",
       "      <td>0</td>\n",
       "      <td>0</td>\n",
       "      <td>...</td>\n",
       "      <td>108.750000</td>\n",
       "      <td>128.0</td>\n",
       "      <td>435.0</td>\n",
       "      <td>23.169333</td>\n",
       "      <td>2.530833</td>\n",
       "      <td>1.257667</td>\n",
       "      <td>6.372500</td>\n",
       "      <td>1.443167</td>\n",
       "      <td>11.385000</td>\n",
       "      <td>0.180167</td>\n",
       "    </tr>\n",
       "    <tr>\n",
       "      <th>2</th>\n",
       "      <td>SSG0102</td>\n",
       "      <td>20.0</td>\n",
       "      <td>20.0</td>\n",
       "      <td>1</td>\n",
       "      <td>0</td>\n",
       "      <td>0</td>\n",
       "      <td>0</td>\n",
       "      <td>1</td>\n",
       "      <td>0</td>\n",
       "      <td>0</td>\n",
       "      <td>...</td>\n",
       "      <td>11.571429</td>\n",
       "      <td>5.0</td>\n",
       "      <td>81.0</td>\n",
       "      <td>34.525167</td>\n",
       "      <td>3.595667</td>\n",
       "      <td>1.301500</td>\n",
       "      <td>10.433000</td>\n",
       "      <td>1.658333</td>\n",
       "      <td>14.911000</td>\n",
       "      <td>2.625667</td>\n",
       "    </tr>\n",
       "    <tr>\n",
       "      <th>3</th>\n",
       "      <td>ECH2807</td>\n",
       "      <td>21.0</td>\n",
       "      <td>30.0</td>\n",
       "      <td>1</td>\n",
       "      <td>0</td>\n",
       "      <td>0</td>\n",
       "      <td>0</td>\n",
       "      <td>1</td>\n",
       "      <td>0</td>\n",
       "      <td>0</td>\n",
       "      <td>...</td>\n",
       "      <td>55.750000</td>\n",
       "      <td>57.0</td>\n",
       "      <td>223.0</td>\n",
       "      <td>46.279833</td>\n",
       "      <td>1.717167</td>\n",
       "      <td>0.610833</td>\n",
       "      <td>21.664167</td>\n",
       "      <td>0.892167</td>\n",
       "      <td>19.574333</td>\n",
       "      <td>1.821167</td>\n",
       "    </tr>\n",
       "    <tr>\n",
       "      <th>4</th>\n",
       "      <td>AST1210</td>\n",
       "      <td>25.0</td>\n",
       "      <td>60.0</td>\n",
       "      <td>1</td>\n",
       "      <td>0</td>\n",
       "      <td>0</td>\n",
       "      <td>0</td>\n",
       "      <td>0</td>\n",
       "      <td>0</td>\n",
       "      <td>0</td>\n",
       "      <td>...</td>\n",
       "      <td>20.500000</td>\n",
       "      <td>27.0</td>\n",
       "      <td>41.0</td>\n",
       "      <td>28.102000</td>\n",
       "      <td>3.470833</td>\n",
       "      <td>1.178833</td>\n",
       "      <td>12.412667</td>\n",
       "      <td>1.634500</td>\n",
       "      <td>6.445500</td>\n",
       "      <td>2.959667</td>\n",
       "    </tr>\n",
       "  </tbody>\n",
       "</table>\n",
       "<p>5 rows × 53 columns</p>\n",
       "</div>"
      ],
      "text/plain": [
       "        ID   AGE  WORK  Gender_Männlich  Gender_Weiblich  \\\n",
       "0  ABO2606  22.0  25.0                1                0   \n",
       "1  APE2704  20.0  15.0                1                0   \n",
       "2  SSG0102  20.0  20.0                1                0   \n",
       "3  ECH2807  21.0  30.0                1                0   \n",
       "4  AST1210  25.0  60.0                1                0   \n",
       "\n",
       "   Edu_Abgeschlossene_Berufsausbildung  Edu_Mittlere_Reife_Realschulabschluss  \\\n",
       "0                                    0                                      0   \n",
       "1                                    0                                      0   \n",
       "2                                    0                                      0   \n",
       "3                                    0                                      0   \n",
       "4                                    0                                      0   \n",
       "\n",
       "   Edu_Abitur_oder_Fachabitur  Edu_Bachelor  Edu_Master  ...  \\\n",
       "0                           0             1           0  ...   \n",
       "1                           1             0           0  ...   \n",
       "2                           1             0           0  ...   \n",
       "3                           1             0           0  ...   \n",
       "4                           0             0           0  ...   \n",
       "\n",
       "   Average_Word_Count_Prompts  First_Prompt_Word_Count  \\\n",
       "0                   39.333333                    100.0   \n",
       "1                  108.750000                    128.0   \n",
       "2                   11.571429                      5.0   \n",
       "3                   55.750000                     57.0   \n",
       "4                   20.500000                     27.0   \n",
       "\n",
       "   Total_Word_Count_Prompt  time_total  time_demogr  time_pers  time_task1  \\\n",
       "0                    118.0   35.038667     9.134167   1.056333   11.980833   \n",
       "1                    435.0   23.169333     2.530833   1.257667    6.372500   \n",
       "2                     81.0   34.525167     3.595667   1.301500   10.433000   \n",
       "3                    223.0   46.279833     1.717167   0.610833   21.664167   \n",
       "4                     41.0   28.102000     3.470833   1.178833   12.412667   \n",
       "\n",
       "   time_survey1  time_task2  time_survey2  \n",
       "0      1.290833   11.509667      0.066833  \n",
       "1      1.443167   11.385000      0.180167  \n",
       "2      1.658333   14.911000      2.625667  \n",
       "3      0.892167   19.574333      1.821167  \n",
       "4      1.634500    6.445500      2.959667  \n",
       "\n",
       "[5 rows x 53 columns]"
      ]
     },
     "execution_count": 16,
     "metadata": {},
     "output_type": "execute_result"
    }
   ],
   "source": [
    "# Look at the merged dataset\n",
    "merged_df.head()"
   ]
  },
  {
   "cell_type": "code",
   "execution_count": 17,
   "metadata": {},
   "outputs": [],
   "source": [
    "# Save DF in a new CSV-File \n",
    "merged_df.to_csv('data_merged_all_analysis.csv', index=False, encoding='utf-8-sig', sep=',')"
   ]
  },
  {
   "cell_type": "code",
   "execution_count": null,
   "metadata": {},
   "outputs": [],
   "source": []
  }
 ],
 "metadata": {
  "kernelspec": {
   "display_name": "base",
   "language": "python",
   "name": "python3"
  },
  "language_info": {
   "codemirror_mode": {
    "name": "ipython",
    "version": 3
   },
   "file_extension": ".py",
   "mimetype": "text/x-python",
   "name": "python",
   "nbconvert_exporter": "python",
   "pygments_lexer": "ipython3",
   "version": "3.8.19"
  }
 },
 "nbformat": 4,
 "nbformat_minor": 2
}
