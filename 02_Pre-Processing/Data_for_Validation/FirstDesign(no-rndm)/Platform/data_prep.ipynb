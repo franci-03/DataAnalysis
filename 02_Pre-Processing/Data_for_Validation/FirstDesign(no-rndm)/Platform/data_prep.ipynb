{
 "cells": [
  {
   "cell_type": "markdown",
   "metadata": {},
   "source": [
    "# Pre-Processing of Platform Data -  Group with Randomization\n",
    "\n",
    "Completely done in Python. There ore no steps required in Excel\n",
    "\n",
    "v1_25.03.2024"
   ]
  },
  {
   "cell_type": "markdown",
   "metadata": {},
   "source": [
    "Cleaning"
   ]
  },
  {
   "cell_type": "code",
   "execution_count": 1,
   "metadata": {},
   "outputs": [],
   "source": [
    "import pandas as pd\n",
    "import numpy as np"
   ]
  },
  {
   "cell_type": "code",
   "execution_count": 2,
   "metadata": {},
   "outputs": [],
   "source": [
    "# Load the dataset\n",
    "df = pd.read_csv('2024_03_22_Main.experimental_design.csv')"
   ]
  },
  {
   "cell_type": "code",
   "execution_count": 3,
   "metadata": {},
   "outputs": [
    {
     "data": {
      "text/html": [
       "<div>\n",
       "<style scoped>\n",
       "    .dataframe tbody tr th:only-of-type {\n",
       "        vertical-align: middle;\n",
       "    }\n",
       "\n",
       "    .dataframe tbody tr th {\n",
       "        vertical-align: top;\n",
       "    }\n",
       "\n",
       "    .dataframe thead th {\n",
       "        text-align: right;\n",
       "    }\n",
       "</style>\n",
       "<table border=\"1\" class=\"dataframe\">\n",
       "  <thead>\n",
       "    <tr style=\"text-align: right;\">\n",
       "      <th></th>\n",
       "      <th>_id</th>\n",
       "      <th>user_id</th>\n",
       "      <th>group_nr</th>\n",
       "      <th>task_nr</th>\n",
       "      <th>tracking type</th>\n",
       "      <th>action</th>\n",
       "      <th>timestamp</th>\n",
       "      <th>who</th>\n",
       "      <th>text</th>\n",
       "    </tr>\n",
       "  </thead>\n",
       "  <tbody>\n",
       "    <tr>\n",
       "      <th>0</th>\n",
       "      <td>65ddae33def0ea9b7c8f2dcb</td>\n",
       "      <td>1000300</td>\n",
       "      <td>1.0</td>\n",
       "      <td>-1</td>\n",
       "      <td>NaN</td>\n",
       "      <td>NaN</td>\n",
       "      <td>NaN</td>\n",
       "      <td>NaN</td>\n",
       "      <td>NaN</td>\n",
       "    </tr>\n",
       "    <tr>\n",
       "      <th>1</th>\n",
       "      <td>65ddae33def0ea9b7c8f2dcc</td>\n",
       "      <td>1000300</td>\n",
       "      <td>1.0</td>\n",
       "      <td>-1</td>\n",
       "      <td>MOUSE</td>\n",
       "      <td>Intro submit button clicked!</td>\n",
       "      <td>27/02/2024 09:41:07</td>\n",
       "      <td>NaN</td>\n",
       "      <td>NaN</td>\n",
       "    </tr>\n",
       "    <tr>\n",
       "      <th>2</th>\n",
       "      <td>65ddae35def0ea9b7c8f2dcd</td>\n",
       "      <td>1000300</td>\n",
       "      <td>1.0</td>\n",
       "      <td>1</td>\n",
       "      <td>MOUSE</td>\n",
       "      <td>Answer box is selected!</td>\n",
       "      <td>27/02/2024 09:41:09</td>\n",
       "      <td>NaN</td>\n",
       "      <td>NaN</td>\n",
       "    </tr>\n",
       "    <tr>\n",
       "      <th>3</th>\n",
       "      <td>65ddae36def0ea9b7c8f2dce</td>\n",
       "      <td>1000300</td>\n",
       "      <td>1.0</td>\n",
       "      <td>1</td>\n",
       "      <td>MOUSE</td>\n",
       "      <td>Answer box is changed!</td>\n",
       "      <td>27/02/2024 09:41:10</td>\n",
       "      <td>NaN</td>\n",
       "      <td>NaN</td>\n",
       "    </tr>\n",
       "    <tr>\n",
       "      <th>4</th>\n",
       "      <td>65ddae3cdef0ea9b7c8f2dcf</td>\n",
       "      <td>1000300</td>\n",
       "      <td>1.0</td>\n",
       "      <td>1</td>\n",
       "      <td>MOUSE</td>\n",
       "      <td>Answer box is de-selected!</td>\n",
       "      <td>27/02/2024 09:41:16</td>\n",
       "      <td>NaN</td>\n",
       "      <td>NaN</td>\n",
       "    </tr>\n",
       "  </tbody>\n",
       "</table>\n",
       "</div>"
      ],
      "text/plain": [
       "                        _id  user_id  group_nr  task_nr tracking type  \\\n",
       "0  65ddae33def0ea9b7c8f2dcb  1000300       1.0       -1           NaN   \n",
       "1  65ddae33def0ea9b7c8f2dcc  1000300       1.0       -1         MOUSE   \n",
       "2  65ddae35def0ea9b7c8f2dcd  1000300       1.0        1         MOUSE   \n",
       "3  65ddae36def0ea9b7c8f2dce  1000300       1.0        1         MOUSE   \n",
       "4  65ddae3cdef0ea9b7c8f2dcf  1000300       1.0        1         MOUSE   \n",
       "\n",
       "                         action            timestamp  who text  \n",
       "0                           NaN                  NaN  NaN  NaN  \n",
       "1  Intro submit button clicked!  27/02/2024 09:41:07  NaN  NaN  \n",
       "2       Answer box is selected!  27/02/2024 09:41:09  NaN  NaN  \n",
       "3        Answer box is changed!  27/02/2024 09:41:10  NaN  NaN  \n",
       "4    Answer box is de-selected!  27/02/2024 09:41:16  NaN  NaN  "
      ]
     },
     "execution_count": 3,
     "metadata": {},
     "output_type": "execute_result"
    }
   ],
   "source": [
    "# Take a look at the data structure\n",
    "df.head()"
   ]
  },
  {
   "cell_type": "code",
   "execution_count": 4,
   "metadata": {},
   "outputs": [],
   "source": [
    "# Drop the unnecessary columns\n",
    "columns_to_drop = [\"_id\", \"task_nr\", \"tracking type\", \"action\", \"timestamp\", 'who', 'text']\n",
    "df.drop(columns=columns_to_drop, inplace=True)"
   ]
  },
  {
   "cell_type": "code",
   "execution_count": 5,
   "metadata": {},
   "outputs": [],
   "source": [
    "# Rename the column \"user_id\" to \"VPNCode\"\n",
    "df.rename(columns={\"user_id\": \"VPNCode\"}, inplace=True)"
   ]
  },
  {
   "cell_type": "code",
   "execution_count": 6,
   "metadata": {},
   "outputs": [],
   "source": [
    "# Filter the dataset to include only rows with the specified VPNCode values\n",
    "vpn_codes_to_keep = [\"ABO2606\", \"APE2704\", \"SSG0102\", \"ECH2807\", \"AST1210\", \n",
    "                     \"IHE1103\", \"OME0709\", \"NBA0408\", \"AOD2103\", \"IME0910\", \n",
    "                     \"VBA1706\", \"AFU0708\", \"USG0407\"]\n",
    "\n",
    "df = df[df['VPNCode'].isin(vpn_codes_to_keep)]"
   ]
  },
  {
   "cell_type": "code",
   "execution_count": 8,
   "metadata": {},
   "outputs": [],
   "source": [
    "# Remove duplicate rows that may have resulted from the merge (since we've aggregated prompting info at the user level)\n",
    "df_final = df.drop_duplicates(subset=['VPNCode'])"
   ]
  },
  {
   "cell_type": "code",
   "execution_count": 11,
   "metadata": {},
   "outputs": [
    {
     "data": {
      "text/html": [
       "<div>\n",
       "<style scoped>\n",
       "    .dataframe tbody tr th:only-of-type {\n",
       "        vertical-align: middle;\n",
       "    }\n",
       "\n",
       "    .dataframe tbody tr th {\n",
       "        vertical-align: top;\n",
       "    }\n",
       "\n",
       "    .dataframe thead th {\n",
       "        text-align: right;\n",
       "    }\n",
       "</style>\n",
       "<table border=\"1\" class=\"dataframe\">\n",
       "  <thead>\n",
       "    <tr style=\"text-align: right;\">\n",
       "      <th></th>\n",
       "      <th>VPNCode</th>\n",
       "      <th>group_nr</th>\n",
       "    </tr>\n",
       "  </thead>\n",
       "  <tbody>\n",
       "    <tr>\n",
       "      <th>241</th>\n",
       "      <td>ABO2606</td>\n",
       "      <td>1.0</td>\n",
       "    </tr>\n",
       "    <tr>\n",
       "      <th>303</th>\n",
       "      <td>APE2704</td>\n",
       "      <td>3.0</td>\n",
       "    </tr>\n",
       "    <tr>\n",
       "      <th>356</th>\n",
       "      <td>SSG0102</td>\n",
       "      <td>3.0</td>\n",
       "    </tr>\n",
       "    <tr>\n",
       "      <th>431</th>\n",
       "      <td>ECH2807</td>\n",
       "      <td>4.0</td>\n",
       "    </tr>\n",
       "    <tr>\n",
       "      <th>501</th>\n",
       "      <td>AST1210</td>\n",
       "      <td>3.0</td>\n",
       "    </tr>\n",
       "    <tr>\n",
       "      <th>525</th>\n",
       "      <td>IHE1103</td>\n",
       "      <td>2.0</td>\n",
       "    </tr>\n",
       "    <tr>\n",
       "      <th>571</th>\n",
       "      <td>OME0709</td>\n",
       "      <td>4.0</td>\n",
       "    </tr>\n",
       "    <tr>\n",
       "      <th>620</th>\n",
       "      <td>NBA0408</td>\n",
       "      <td>2.0</td>\n",
       "    </tr>\n",
       "    <tr>\n",
       "      <th>649</th>\n",
       "      <td>AOD2103</td>\n",
       "      <td>1.0</td>\n",
       "    </tr>\n",
       "    <tr>\n",
       "      <th>705</th>\n",
       "      <td>IME0910</td>\n",
       "      <td>4.0</td>\n",
       "    </tr>\n",
       "    <tr>\n",
       "      <th>754</th>\n",
       "      <td>VBA1706</td>\n",
       "      <td>4.0</td>\n",
       "    </tr>\n",
       "    <tr>\n",
       "      <th>815</th>\n",
       "      <td>AFU0708</td>\n",
       "      <td>2.0</td>\n",
       "    </tr>\n",
       "    <tr>\n",
       "      <th>1025</th>\n",
       "      <td>USG0407</td>\n",
       "      <td>5.0</td>\n",
       "    </tr>\n",
       "  </tbody>\n",
       "</table>\n",
       "</div>"
      ],
      "text/plain": [
       "      VPNCode  group_nr\n",
       "241   ABO2606       1.0\n",
       "303   APE2704       3.0\n",
       "356   SSG0102       3.0\n",
       "431   ECH2807       4.0\n",
       "501   AST1210       3.0\n",
       "525   IHE1103       2.0\n",
       "571   OME0709       4.0\n",
       "620   NBA0408       2.0\n",
       "649   AOD2103       1.0\n",
       "705   IME0910       4.0\n",
       "754   VBA1706       4.0\n",
       "815   AFU0708       2.0\n",
       "1025  USG0407       5.0"
      ]
     },
     "execution_count": 11,
     "metadata": {},
     "output_type": "execute_result"
    }
   ],
   "source": [
    "# Cleaned and reorganized DataFrame\n",
    "df_final"
   ]
  },
  {
   "cell_type": "code",
   "execution_count": 12,
   "metadata": {},
   "outputs": [],
   "source": [
    "# Save DF in a new CSV-File \n",
    "df_final.to_csv('data_prep_cleaned_platform.csv', index=False, encoding='utf-8-sig', sep=',')"
   ]
  },
  {
   "cell_type": "code",
   "execution_count": null,
   "metadata": {},
   "outputs": [],
   "source": []
  }
 ],
 "metadata": {
  "kernelspec": {
   "display_name": "base",
   "language": "python",
   "name": "python3"
  },
  "language_info": {
   "codemirror_mode": {
    "name": "ipython",
    "version": 3
   },
   "file_extension": ".py",
   "mimetype": "text/x-python",
   "name": "python",
   "nbconvert_exporter": "python",
   "pygments_lexer": "ipython3",
   "version": "3.9.13"
  }
 },
 "nbformat": 4,
 "nbformat_minor": 2
}
