{
 "cells": [
  {
   "cell_type": "markdown",
   "metadata": {},
   "source": [
    "# Pre-Processing of Platform Data -  Group with Randomization\n",
    "\n",
    "Data for the Validation of Constructs\n",
    "\n",
    "Some cleaning steps were directly done in Excel:\n",
    "- Replaced the German column names with the English ones\n",
    "- Removed columns that were different from the Lab Data\n",
    "\n",
    "-> Look at readme-data file for more info\n",
    "\n",
    "v2_18.04.2024"
   ]
  },
  {
   "cell_type": "markdown",
   "metadata": {},
   "source": [
    "Cleaning"
   ]
  },
  {
   "cell_type": "code",
   "execution_count": 3,
   "metadata": {},
   "outputs": [],
   "source": [
    "import pandas as pd\n",
    "import numpy as np"
   ]
  },
  {
   "cell_type": "code",
   "execution_count": 43,
   "metadata": {},
   "outputs": [],
   "source": [
    "# Load the dataset\n",
    "df = pd.read_csv('2024_04_14_results-platform.csv')"
   ]
  },
  {
   "cell_type": "code",
   "execution_count": 44,
   "metadata": {},
   "outputs": [
    {
     "data": {
      "text/html": [
       "<div>\n",
       "<style scoped>\n",
       "    .dataframe tbody tr th:only-of-type {\n",
       "        vertical-align: middle;\n",
       "    }\n",
       "\n",
       "    .dataframe tbody tr th {\n",
       "        vertical-align: top;\n",
       "    }\n",
       "\n",
       "    .dataframe thead th {\n",
       "        text-align: right;\n",
       "    }\n",
       "</style>\n",
       "<table border=\"1\" class=\"dataframe\">\n",
       "  <thead>\n",
       "    <tr style=\"text-align: right;\">\n",
       "      <th></th>\n",
       "      <th>_id</th>\n",
       "      <th>user_id</th>\n",
       "      <th>group_nr</th>\n",
       "      <th>task_nr</th>\n",
       "      <th>tracking type</th>\n",
       "      <th>action</th>\n",
       "      <th>timestamp</th>\n",
       "      <th>who</th>\n",
       "      <th>text</th>\n",
       "    </tr>\n",
       "  </thead>\n",
       "  <tbody>\n",
       "    <tr>\n",
       "      <th>0</th>\n",
       "      <td>65ddae33def0ea9b7c8f2dcb</td>\n",
       "      <td>1000300</td>\n",
       "      <td>1.0</td>\n",
       "      <td>-1</td>\n",
       "      <td>NaN</td>\n",
       "      <td>NaN</td>\n",
       "      <td>NaN</td>\n",
       "      <td>NaN</td>\n",
       "      <td>NaN</td>\n",
       "    </tr>\n",
       "    <tr>\n",
       "      <th>1</th>\n",
       "      <td>65ddae33def0ea9b7c8f2dcc</td>\n",
       "      <td>1000300</td>\n",
       "      <td>1.0</td>\n",
       "      <td>-1</td>\n",
       "      <td>MOUSE</td>\n",
       "      <td>Intro submit button clicked!</td>\n",
       "      <td>27/02/2024 09:41:07</td>\n",
       "      <td>NaN</td>\n",
       "      <td>NaN</td>\n",
       "    </tr>\n",
       "    <tr>\n",
       "      <th>2</th>\n",
       "      <td>65ddae35def0ea9b7c8f2dcd</td>\n",
       "      <td>1000300</td>\n",
       "      <td>1.0</td>\n",
       "      <td>1</td>\n",
       "      <td>MOUSE</td>\n",
       "      <td>Answer box is selected!</td>\n",
       "      <td>27/02/2024 09:41:09</td>\n",
       "      <td>NaN</td>\n",
       "      <td>NaN</td>\n",
       "    </tr>\n",
       "    <tr>\n",
       "      <th>3</th>\n",
       "      <td>65ddae36def0ea9b7c8f2dce</td>\n",
       "      <td>1000300</td>\n",
       "      <td>1.0</td>\n",
       "      <td>1</td>\n",
       "      <td>MOUSE</td>\n",
       "      <td>Answer box is changed!</td>\n",
       "      <td>27/02/2024 09:41:10</td>\n",
       "      <td>NaN</td>\n",
       "      <td>NaN</td>\n",
       "    </tr>\n",
       "    <tr>\n",
       "      <th>4</th>\n",
       "      <td>65ddae3cdef0ea9b7c8f2dcf</td>\n",
       "      <td>1000300</td>\n",
       "      <td>1.0</td>\n",
       "      <td>1</td>\n",
       "      <td>MOUSE</td>\n",
       "      <td>Answer box is de-selected!</td>\n",
       "      <td>27/02/2024 09:41:16</td>\n",
       "      <td>NaN</td>\n",
       "      <td>NaN</td>\n",
       "    </tr>\n",
       "  </tbody>\n",
       "</table>\n",
       "</div>"
      ],
      "text/plain": [
       "                        _id  user_id  group_nr  task_nr tracking type  \\\n",
       "0  65ddae33def0ea9b7c8f2dcb  1000300       1.0       -1           NaN   \n",
       "1  65ddae33def0ea9b7c8f2dcc  1000300       1.0       -1         MOUSE   \n",
       "2  65ddae35def0ea9b7c8f2dcd  1000300       1.0        1         MOUSE   \n",
       "3  65ddae36def0ea9b7c8f2dce  1000300       1.0        1         MOUSE   \n",
       "4  65ddae3cdef0ea9b7c8f2dcf  1000300       1.0        1         MOUSE   \n",
       "\n",
       "                         action            timestamp  who text  \n",
       "0                           NaN                  NaN  NaN  NaN  \n",
       "1  Intro submit button clicked!  27/02/2024 09:41:07  NaN  NaN  \n",
       "2       Answer box is selected!  27/02/2024 09:41:09  NaN  NaN  \n",
       "3        Answer box is changed!  27/02/2024 09:41:10  NaN  NaN  \n",
       "4    Answer box is de-selected!  27/02/2024 09:41:16  NaN  NaN  "
      ]
     },
     "execution_count": 44,
     "metadata": {},
     "output_type": "execute_result"
    }
   ],
   "source": [
    "# Take a look at the data structure\n",
    "df.head()"
   ]
  },
  {
   "cell_type": "code",
   "execution_count": 45,
   "metadata": {},
   "outputs": [],
   "source": [
    "# Drop the unnecessary columns\n",
    "columns_to_drop = [\"_id\", \"task_nr\", \"tracking type\", \"action\", \"timestamp\"]\n",
    "df.drop(columns=columns_to_drop, inplace=True)"
   ]
  },
  {
   "cell_type": "code",
   "execution_count": 46,
   "metadata": {},
   "outputs": [],
   "source": [
    "# Rename the column \"user_id\" to \"VPNCode\"\n",
    "df.rename(columns={\"user_id\": \"VPNCode\"}, inplace=True)"
   ]
  },
  {
   "cell_type": "code",
   "execution_count": 47,
   "metadata": {},
   "outputs": [],
   "source": [
    "# Filter the dataset to include only rows with the specified VPNCode values\n",
    "vpn_codes_to_keep = [\n",
    "    \"ZZEBA0308\", \"ZZNRO406\", \"ZZSSA0301\", \"ZZAWA0212\", \"ZZKO1608\",\n",
    "    \"ZZNWA1604\", \"ZZALA3008\", \"ZZUVI2004\", \"ZZAUL2008\", \"ZZRHA2012\",\n",
    "    \"ZZUWA3006\", \"ZZAOT0412\", \"ZZNBI2609\", \"ZZUST0208\", \"ZZASE1301\",\n",
    "    \"ZZELU0612\", \"ZZUFL0505\", \"ZZEDR2902\", \"ZZEAN0306\", \"ZZIBI2311\",\n",
    "    \"ZZEKI2929\", \"ZZAFE1203\", \"ZZIWA2610\", \"ZZAGE607\", \"ZZAH0702\",\n",
    "    \"ZZEFO1204\", \"ZZIBO2610\", \"ZZAKO1412\", \"ZZADE1405\", \"ZZDSC0806\",\n",
    "    \"ZZEDH1501\", \"ZZINe2902\", \"ZZHMU0112\", \"ZZAKY2105\", \"ZZeKa1405\",\n",
    "    \"ZZIKO0401\", \"ZZAZW0718\", \"ZZYPE1411\", \"ZZANI25\", \"ZZOHA2303\",\n",
    "    \"ZZAWH2506\", \"ZZize1717\", \"ZZRDO1608\", \"ZZEOT3110\", \"ZZICO1912\",\n",
    "    \"ZZTHA1907\", \"ZZAMA0101\", \"ZZESA3011\", \"ZZEFR1909\", \"ZZEES0811\",\n",
    "    \"ZZAKI601\", \"klief99\", \"ZZAMU1201\"\n",
    "]\n",
    "\n",
    "df = df[df['VPNCode'].isin(vpn_codes_to_keep)]"
   ]
  },
  {
   "cell_type": "code",
   "execution_count": 48,
   "metadata": {},
   "outputs": [],
   "source": [
    "# Drop rows where either 'who' or 'text' column is empty\n",
    "df.dropna(subset=['who', 'text'], inplace=True)"
   ]
  },
  {
   "cell_type": "code",
   "execution_count": 49,
   "metadata": {},
   "outputs": [
    {
     "data": {
      "text/html": [
       "<div>\n",
       "<style scoped>\n",
       "    .dataframe tbody tr th:only-of-type {\n",
       "        vertical-align: middle;\n",
       "    }\n",
       "\n",
       "    .dataframe tbody tr th {\n",
       "        vertical-align: top;\n",
       "    }\n",
       "\n",
       "    .dataframe thead th {\n",
       "        text-align: right;\n",
       "    }\n",
       "</style>\n",
       "<table border=\"1\" class=\"dataframe\">\n",
       "  <thead>\n",
       "    <tr style=\"text-align: right;\">\n",
       "      <th></th>\n",
       "      <th>VPNCode</th>\n",
       "      <th>group_nr</th>\n",
       "      <th>who</th>\n",
       "      <th>text</th>\n",
       "    </tr>\n",
       "  </thead>\n",
       "  <tbody>\n",
       "    <tr>\n",
       "      <th>2036</th>\n",
       "      <td>ZZUVI2004</td>\n",
       "      <td>5.0</td>\n",
       "      <td>user (answering)</td>\n",
       "      <td>Erstellen Sie eine Veranstaltung, die sowohl i...</td>\n",
       "    </tr>\n",
       "    <tr>\n",
       "      <th>2057</th>\n",
       "      <td>ZZKO1608</td>\n",
       "      <td>2.0</td>\n",
       "      <td>user (answering)</td>\n",
       "      <td>\\nDie Kommunikationsstrategie zur Einführung v...</td>\n",
       "    </tr>\n",
       "    <tr>\n",
       "      <th>2084</th>\n",
       "      <td>ZZEBA0308</td>\n",
       "      <td>6.0</td>\n",
       "      <td>user (prompting)</td>\n",
       "      <td>Bitte hilf mir bei folgender aufgabe:\\nEs ist ...</td>\n",
       "    </tr>\n",
       "    <tr>\n",
       "      <th>2085</th>\n",
       "      <td>ZZEBA0308</td>\n",
       "      <td>6.0</td>\n",
       "      <td>GPT</td>\n",
       "      <td># Eintägige Veranstaltung zur digitalen Transf...</td>\n",
       "    </tr>\n",
       "    <tr>\n",
       "      <th>2093</th>\n",
       "      <td>ZZSSA0301</td>\n",
       "      <td>5.0</td>\n",
       "      <td>user (answering)</td>\n",
       "      <td>Zielsetzung:\\nErstellen Sie eine Veranstaltung...</td>\n",
       "    </tr>\n",
       "  </tbody>\n",
       "</table>\n",
       "</div>"
      ],
      "text/plain": [
       "        VPNCode  group_nr               who  \\\n",
       "2036  ZZUVI2004       5.0  user (answering)   \n",
       "2057   ZZKO1608       2.0  user (answering)   \n",
       "2084  ZZEBA0308       6.0  user (prompting)   \n",
       "2085  ZZEBA0308       6.0               GPT   \n",
       "2093  ZZSSA0301       5.0  user (answering)   \n",
       "\n",
       "                                                   text  \n",
       "2036  Erstellen Sie eine Veranstaltung, die sowohl i...  \n",
       "2057  \\nDie Kommunikationsstrategie zur Einführung v...  \n",
       "2084  Bitte hilf mir bei folgender aufgabe:\\nEs ist ...  \n",
       "2085  # Eintägige Veranstaltung zur digitalen Transf...  \n",
       "2093  Zielsetzung:\\nErstellen Sie eine Veranstaltung...  "
      ]
     },
     "execution_count": 49,
     "metadata": {},
     "output_type": "execute_result"
    }
   ],
   "source": [
    "# Look at the data\n",
    "df.head()"
   ]
  },
  {
   "cell_type": "code",
   "execution_count": 50,
   "metadata": {},
   "outputs": [],
   "source": [
    "# Filter out rows where 'who' is not 'user (prompting)'\n",
    "prompting_df = df[df['who'] == 'user (prompting)']"
   ]
  },
  {
   "cell_type": "code",
   "execution_count": 51,
   "metadata": {},
   "outputs": [],
   "source": [
    "# Group by 'VPNCode' and aggregate prompts into a single string, count them, and calculate some potentially interesting values\n",
    "prompting_summary = df[df['who'] == 'user (prompting)'].groupby('VPNCode').agg(\n",
    "    All_Prompts=('text', ' || '.join),  # Concatenate all prompts\n",
    "    Prompt_Count=('text', 'count'),  # Count prompts\n",
    "    Average_Word_Count=('text', lambda x: np.mean([len(prompt.split()) for prompt in x])),  # Average words per prompt\n",
    "    First_Prompt_Word_Count=('text', lambda x: len(x.iloc[0].split()) if not x.empty else 0),  # Words in the first prompt (as it could show how clearly people prompted and if they used the framework)\n",
    "    Total_Word_Count=('text', lambda x: sum(len(prompt.split()) for prompt in x))  # Total words in all prompts\n",
    ").reset_index()"
   ]
  },
  {
   "cell_type": "code",
   "execution_count": 52,
   "metadata": {},
   "outputs": [],
   "source": [
    "# Merge this summary back with the original dataframe to associate each user with their prompting summary\n",
    "# Left join to ensure all users are included\n",
    "df_merged = pd.merge(df, prompting_summary, on='VPNCode', how='left')"
   ]
  },
  {
   "cell_type": "code",
   "execution_count": 53,
   "metadata": {},
   "outputs": [],
   "source": [
    "# Drop the 'who' and 'text' columns as they are no longer needed\n",
    "df_merged.drop(columns=['who', 'text'], inplace=True)"
   ]
  },
  {
   "cell_type": "code",
   "execution_count": 54,
   "metadata": {},
   "outputs": [],
   "source": [
    "# Remove duplicate rows that may have resulted from the merge (since we've aggregated prompting info at the user level)\n",
    "df_final = df_merged.drop_duplicates(subset=['VPNCode'])"
   ]
  },
  {
   "cell_type": "code",
   "execution_count": 55,
   "metadata": {},
   "outputs": [
    {
     "data": {
      "text/html": [
       "<div>\n",
       "<style scoped>\n",
       "    .dataframe tbody tr th:only-of-type {\n",
       "        vertical-align: middle;\n",
       "    }\n",
       "\n",
       "    .dataframe tbody tr th {\n",
       "        vertical-align: top;\n",
       "    }\n",
       "\n",
       "    .dataframe thead th {\n",
       "        text-align: right;\n",
       "    }\n",
       "</style>\n",
       "<table border=\"1\" class=\"dataframe\">\n",
       "  <thead>\n",
       "    <tr style=\"text-align: right;\">\n",
       "      <th></th>\n",
       "      <th>VPNCode</th>\n",
       "      <th>group_nr</th>\n",
       "      <th>All_Prompts</th>\n",
       "      <th>Prompt_Count</th>\n",
       "      <th>Average_Word_Count</th>\n",
       "      <th>First_Prompt_Word_Count</th>\n",
       "      <th>Total_Word_Count</th>\n",
       "    </tr>\n",
       "  </thead>\n",
       "  <tbody>\n",
       "    <tr>\n",
       "      <th>0</th>\n",
       "      <td>ZZUVI2004</td>\n",
       "      <td>5.0</td>\n",
       "      <td>NaN</td>\n",
       "      <td>NaN</td>\n",
       "      <td>NaN</td>\n",
       "      <td>NaN</td>\n",
       "      <td>NaN</td>\n",
       "    </tr>\n",
       "    <tr>\n",
       "      <th>1</th>\n",
       "      <td>ZZKO1608</td>\n",
       "      <td>2.0</td>\n",
       "      <td>Entwickeln Sie ein Konzept für eine denkwürdig...</td>\n",
       "      <td>1.0</td>\n",
       "      <td>54.0</td>\n",
       "      <td>54.0</td>\n",
       "      <td>54.0</td>\n",
       "    </tr>\n",
       "    <tr>\n",
       "      <th>2</th>\n",
       "      <td>ZZEBA0308</td>\n",
       "      <td>6.0</td>\n",
       "      <td>Bitte hilf mir bei folgender aufgabe:\\nEs ist ...</td>\n",
       "      <td>1.0</td>\n",
       "      <td>116.0</td>\n",
       "      <td>116.0</td>\n",
       "      <td>116.0</td>\n",
       "    </tr>\n",
       "    <tr>\n",
       "      <th>4</th>\n",
       "      <td>ZZSSA0301</td>\n",
       "      <td>5.0</td>\n",
       "      <td>NaN</td>\n",
       "      <td>NaN</td>\n",
       "      <td>NaN</td>\n",
       "      <td>NaN</td>\n",
       "      <td>NaN</td>\n",
       "    </tr>\n",
       "    <tr>\n",
       "      <th>5</th>\n",
       "      <td>ZZALA3008</td>\n",
       "      <td>5.0</td>\n",
       "      <td>Hilf mir, ein Konzept für eine denkwürdige ein...</td>\n",
       "      <td>3.0</td>\n",
       "      <td>41.0</td>\n",
       "      <td>19.0</td>\n",
       "      <td>123.0</td>\n",
       "    </tr>\n",
       "  </tbody>\n",
       "</table>\n",
       "</div>"
      ],
      "text/plain": [
       "     VPNCode  group_nr                                        All_Prompts  \\\n",
       "0  ZZUVI2004       5.0                                                NaN   \n",
       "1   ZZKO1608       2.0  Entwickeln Sie ein Konzept für eine denkwürdig...   \n",
       "2  ZZEBA0308       6.0  Bitte hilf mir bei folgender aufgabe:\\nEs ist ...   \n",
       "4  ZZSSA0301       5.0                                                NaN   \n",
       "5  ZZALA3008       5.0  Hilf mir, ein Konzept für eine denkwürdige ein...   \n",
       "\n",
       "   Prompt_Count  Average_Word_Count  First_Prompt_Word_Count  Total_Word_Count  \n",
       "0           NaN                 NaN                      NaN               NaN  \n",
       "1           1.0                54.0                     54.0              54.0  \n",
       "2           1.0               116.0                    116.0             116.0  \n",
       "4           NaN                 NaN                      NaN               NaN  \n",
       "5           3.0                41.0                     19.0             123.0  "
      ]
     },
     "execution_count": 55,
     "metadata": {},
     "output_type": "execute_result"
    }
   ],
   "source": [
    "# Cleaned and reorganized DataFrame\n",
    "df_final.head()"
   ]
  },
  {
   "cell_type": "code",
   "execution_count": 58,
   "metadata": {},
   "outputs": [
    {
     "name": "stdout",
     "output_type": "stream",
     "text": [
      "All_Prompts                10\n",
      "Prompt_Count               10\n",
      "Average_Word_Count         10\n",
      "First_Prompt_Word_Count    10\n",
      "Total_Word_Count           10\n",
      "dtype: int64\n"
     ]
    }
   ],
   "source": [
    "# As a lot of people were doing the experiment simoultanously so there are some missing values for the prompts. Not too big of a problem as this is not the main focus\n",
    "# Check for missing values across the entire DataFrame\n",
    "missing_values = df_final.isnull().sum()\n",
    "print(missing_values[missing_values > 0])"
   ]
  },
  {
   "cell_type": "code",
   "execution_count": 59,
   "metadata": {},
   "outputs": [
    {
     "name": "stderr",
     "output_type": "stream",
     "text": [
      "C:\\Users\\franc\\AppData\\Local\\Temp\\ipykernel_15904\\3605428801.py:2: SettingWithCopyWarning: \n",
      "A value is trying to be set on a copy of a slice from a DataFrame\n",
      "\n",
      "See the caveats in the documentation: https://pandas.pydata.org/pandas-docs/stable/user_guide/indexing.html#returning-a-view-versus-a-copy\n",
      "  df_final.fillna(0, inplace=True)\n"
     ]
    }
   ],
   "source": [
    "# Fill missing values with 0\n",
    "df_final.fillna(0, inplace=True)"
   ]
  },
  {
   "cell_type": "code",
   "execution_count": 60,
   "metadata": {},
   "outputs": [
    {
     "data": {
      "text/html": [
       "<div>\n",
       "<style scoped>\n",
       "    .dataframe tbody tr th:only-of-type {\n",
       "        vertical-align: middle;\n",
       "    }\n",
       "\n",
       "    .dataframe tbody tr th {\n",
       "        vertical-align: top;\n",
       "    }\n",
       "\n",
       "    .dataframe thead th {\n",
       "        text-align: right;\n",
       "    }\n",
       "</style>\n",
       "<table border=\"1\" class=\"dataframe\">\n",
       "  <thead>\n",
       "    <tr style=\"text-align: right;\">\n",
       "      <th></th>\n",
       "      <th>VPNCode</th>\n",
       "      <th>group_nr</th>\n",
       "      <th>All_Prompts</th>\n",
       "      <th>Prompt_Count</th>\n",
       "      <th>Average_Word_Count</th>\n",
       "      <th>First_Prompt_Word_Count</th>\n",
       "      <th>Total_Word_Count</th>\n",
       "    </tr>\n",
       "  </thead>\n",
       "  <tbody>\n",
       "    <tr>\n",
       "      <th>0</th>\n",
       "      <td>ZZUVI2004</td>\n",
       "      <td>5.0</td>\n",
       "      <td>0</td>\n",
       "      <td>0.0</td>\n",
       "      <td>0.0</td>\n",
       "      <td>0.0</td>\n",
       "      <td>0.0</td>\n",
       "    </tr>\n",
       "    <tr>\n",
       "      <th>1</th>\n",
       "      <td>ZZKO1608</td>\n",
       "      <td>2.0</td>\n",
       "      <td>Entwickeln Sie ein Konzept für eine denkwürdig...</td>\n",
       "      <td>1.0</td>\n",
       "      <td>54.0</td>\n",
       "      <td>54.0</td>\n",
       "      <td>54.0</td>\n",
       "    </tr>\n",
       "    <tr>\n",
       "      <th>2</th>\n",
       "      <td>ZZEBA0308</td>\n",
       "      <td>6.0</td>\n",
       "      <td>Bitte hilf mir bei folgender aufgabe:\\nEs ist ...</td>\n",
       "      <td>1.0</td>\n",
       "      <td>116.0</td>\n",
       "      <td>116.0</td>\n",
       "      <td>116.0</td>\n",
       "    </tr>\n",
       "    <tr>\n",
       "      <th>4</th>\n",
       "      <td>ZZSSA0301</td>\n",
       "      <td>5.0</td>\n",
       "      <td>0</td>\n",
       "      <td>0.0</td>\n",
       "      <td>0.0</td>\n",
       "      <td>0.0</td>\n",
       "      <td>0.0</td>\n",
       "    </tr>\n",
       "    <tr>\n",
       "      <th>5</th>\n",
       "      <td>ZZALA3008</td>\n",
       "      <td>5.0</td>\n",
       "      <td>Hilf mir, ein Konzept für eine denkwürdige ein...</td>\n",
       "      <td>3.0</td>\n",
       "      <td>41.0</td>\n",
       "      <td>19.0</td>\n",
       "      <td>123.0</td>\n",
       "    </tr>\n",
       "  </tbody>\n",
       "</table>\n",
       "</div>"
      ],
      "text/plain": [
       "     VPNCode  group_nr                                        All_Prompts  \\\n",
       "0  ZZUVI2004       5.0                                                  0   \n",
       "1   ZZKO1608       2.0  Entwickeln Sie ein Konzept für eine denkwürdig...   \n",
       "2  ZZEBA0308       6.0  Bitte hilf mir bei folgender aufgabe:\\nEs ist ...   \n",
       "4  ZZSSA0301       5.0                                                  0   \n",
       "5  ZZALA3008       5.0  Hilf mir, ein Konzept für eine denkwürdige ein...   \n",
       "\n",
       "   Prompt_Count  Average_Word_Count  First_Prompt_Word_Count  Total_Word_Count  \n",
       "0           0.0                 0.0                      0.0               0.0  \n",
       "1           1.0                54.0                     54.0              54.0  \n",
       "2           1.0               116.0                    116.0             116.0  \n",
       "4           0.0                 0.0                      0.0               0.0  \n",
       "5           3.0                41.0                     19.0             123.0  "
      ]
     },
     "execution_count": 60,
     "metadata": {},
     "output_type": "execute_result"
    }
   ],
   "source": [
    "# Look at data\n",
    "df_final.head()"
   ]
  },
  {
   "cell_type": "code",
   "execution_count": 61,
   "metadata": {},
   "outputs": [],
   "source": [
    "# Save DF in a new CSV-File \n",
    "df_final.to_csv('data_prep_cleaned.csv', index=False, encoding='utf-8-sig', sep=',')"
   ]
  },
  {
   "cell_type": "code",
   "execution_count": null,
   "metadata": {},
   "outputs": [],
   "source": []
  }
 ],
 "metadata": {
  "kernelspec": {
   "display_name": "base",
   "language": "python",
   "name": "python3"
  },
  "language_info": {
   "codemirror_mode": {
    "name": "ipython",
    "version": 3
   },
   "file_extension": ".py",
   "mimetype": "text/x-python",
   "name": "python",
   "nbconvert_exporter": "python",
   "pygments_lexer": "ipython3",
   "version": "3.8.19"
  }
 },
 "nbformat": 4,
 "nbformat_minor": 2
}
