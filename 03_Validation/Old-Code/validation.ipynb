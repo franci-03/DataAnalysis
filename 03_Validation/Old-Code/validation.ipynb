{
 "cells": [
  {
   "cell_type": "markdown",
   "metadata": {},
   "source": [
    "## Validation of Constructs\n",
    "\n",
    "v1_12.04.2024"
   ]
  },
  {
   "cell_type": "code",
   "execution_count": 1,
   "metadata": {},
   "outputs": [],
   "source": [
    "import pandas as pd\n",
    "import numpy as np\n",
    "import matplotlib.pyplot as plt\n",
    "from factor_analyzer import FactorAnalyzer, calculate_kmo, calculate_bartlett_sphericity\n",
    "from semopy import Model\n",
    "from semopy.stats import calc_stats, calc_gfi\n",
    "from scipy.stats import chi2\n",
    "from sklearn.covariance import EmpiricalCovariance\n",
    "from statsmodels.stats.outliers_influence import variance_inflation_factor\n",
    "import pingouin as pg\n",
    "from semopy.inspector import inspect"
   ]
  },
  {
   "cell_type": "code",
   "execution_count": 82,
   "metadata": {},
   "outputs": [],
   "source": [
    "# Load data\n",
    "data = pd.read_csv('data_merged_all_validation.csv')"
   ]
  },
  {
   "cell_type": "code",
   "execution_count": 83,
   "metadata": {},
   "outputs": [
    {
     "name": "stdout",
     "output_type": "stream",
     "text": [
      "Name of objective: MLW\n",
      "Optimization method: SLSQP\n",
      "Optimization successful.\n",
      "Optimization terminated successfully\n",
      "Objective value: 0.009\n",
      "Number of iterations: 17\n",
      "Params: -0.737 1.250 1.227 0.552 0.746 0.603 0.208 0.541\n"
     ]
    }
   ],
   "source": [
    "# Define the model using semopy syntax\n",
    "model_desc = \"\"\"\n",
    "NEO_N =~ NEON1 + NEON2R + NEON3 + NEON4\n",
    "\"\"\"\n",
    "\n",
    "model = Model(model_desc)\n",
    "result = model.fit(data)\n",
    "print(result)"
   ]
  },
  {
   "cell_type": "code",
   "execution_count": null,
   "metadata": {},
   "outputs": [],
   "source": [
    "AILiteracy_Use =~ AILiteracyUse1 + AILiteracyUse2 + AILiteracyUse3 + AILiteracyUse4 + AILiteracyUse5 + AILiteracyUse6\n",
    "AILiteracy_Kno =~ AILiteracyKno1 + AILiteracyKno2 + AILiteracyKno3 + AILiteracyKno4 + AILiteracyKno5 + AILiteracyKno6\n",
    "AILiteracy_Det =~ AILiteracyDet1 + AILiteracyDet2 + AILiteracyDet3\n",
    "AILiteracy_Eth =~ AILiteracyEth1 + AILiteracyEth3\n",
    "PGAT =~ PGATPGAT1 + PGATPGAT2 + PGATPGAT3\n",
    "NGAT =~ NGATNGAT1 + NGATNGAT2 + NGATNGAT3\n",
    "CMV =~ CMVSQ001 + CMVSQ002 + CMVSQ003\n",
    "NEO_E =~ NEOE1R + NEOE2 + NEOE3R + NEOE4\n",
    "NEO_A =~ NEOV1R + NEOV2 + NEOV3R + NEOV4R\n",
    "NEO_C =~ NEOG1 + NEOG2R + NEOG3 + NEOG4\n",
    "NEO_N =~ NEON1 + NEON2R + NEON3 + NEON4\n",
    "NEO_O =~ NEOO1 + NEOO2 + NEOO3 + NEOO4 + NEOO5R\n",
    "JC1_IStR =~ JC1IStR1 + JC1IStR2 + JC1IStR3 + JC1IStR4 + JC1IStR5\n",
    "JC1_HRJD =~ JC1HRJD1 + JC1HRJD2 + JC1HRJD3\n",
    "JC2_IStR =~ JC22IStR1 + JC22IStR2 + JC22IStR3 + JC22IStR4 + JC22IStR5\n",
    "JC2_HRJD =~ JC22HRJD1 + JC22HRJD2 + JC22HRJD5 + JC22HRJD6\n",
    "\n",
    "# 'JC_IStR': ['JC1[IStR1]', 'JC1[IStR2]', 'JC1[IStR3]', 'JC1[IStR4]', 'JC1[IStR5]', 'JC2[2IStR1]', 'JC2[2IStR2]', 'JC2[2IStR3]', 'JC2[2IStR4]', 'JC2[2IStR5]'],\n",
    "# 'JC_HRJD': ['JC1[HRJD1]', 'JC1[HRJD2]', 'JC1[HRJD3]', 'JC2[2HRJD1]', 'JC2[2HRJD2]', 'JC2[2HRJD5]', 'JC2[2HRJD6]']"
   ]
  },
  {
   "cell_type": "code",
   "execution_count": 84,
   "metadata": {},
   "outputs": [
    {
     "name": "stdout",
     "output_type": "stream",
     "text": [
      "       DoF  DoF Baseline      chi2  chi2 p-value  chi2 Baseline       CFI  \\\n",
      "Value    2             6  0.283289       0.86793      43.600805  1.045656   \n",
      "\n",
      "            GFI      AGFI       NFI       TLI  RMSEA        AIC        BIC  \\\n",
      "Value  0.993503  0.980508  0.993503  1.136969      0  15.981114  27.190693   \n",
      "\n",
      "         LogLik  \n",
      "Value  0.009443  \n"
     ]
    }
   ],
   "source": [
    "# Use calc_stats to get a comprehensive result object including fit indices\n",
    "stats = calc_stats(model)\n",
    "print(stats)"
   ]
  },
  {
   "cell_type": "code",
   "execution_count": 86,
   "metadata": {},
   "outputs": [
    {
     "name": "stdout",
     "output_type": "stream",
     "text": [
      "RMSEA: Value    0\n",
      "Name: RMSEA, dtype: int64,\n",
      "CFI: Value    1.045656\n",
      "Name: CFI, dtype: float64, \n",
      "TLI: Value    1.136969\n",
      "Name: TLI, dtype: float64\n"
     ]
    }
   ],
   "source": [
    "# Evaluate model fit \n",
    "print(f\"RMSEA: {stats['RMSEA']},\\nCFI: {stats['CFI']}, \\nTLI: {stats['TLI']}\")"
   ]
  },
  {
   "cell_type": "code",
   "execution_count": 87,
   "metadata": {},
   "outputs": [
    {
     "ename": "AttributeError",
     "evalue": "'DataFrame' object has no attribute 'get_ave'",
     "output_type": "error",
     "traceback": [
      "\u001b[1;31m---------------------------------------------------------------------------\u001b[0m",
      "\u001b[1;31mAttributeError\u001b[0m                            Traceback (most recent call last)",
      "Cell \u001b[1;32mIn[87], line 3\u001b[0m\n\u001b[0;32m      1\u001b[0m \u001b[38;5;66;03m# Compute Average Variance Extracted (AVE) for each factor\u001b[39;00m\n\u001b[0;32m      2\u001b[0m stats \u001b[38;5;241m=\u001b[39m calc_stats(model)\n\u001b[1;32m----> 3\u001b[0m \u001b[38;5;28mprint\u001b[39m(\u001b[38;5;124m\"\u001b[39m\u001b[38;5;124mAverage Variance Extracted (AVE):\u001b[39m\u001b[38;5;130;01m\\n\u001b[39;00m\u001b[38;5;124m\"\u001b[39m, \u001b[43mstats\u001b[49m\u001b[38;5;241;43m.\u001b[39;49m\u001b[43mget_ave\u001b[49m())\n",
      "File \u001b[1;32mc:\\Users\\franc\\anaconda3\\envs\\MTGAI\\lib\\site-packages\\pandas\\core\\generic.py:5989\u001b[0m, in \u001b[0;36mNDFrame.__getattr__\u001b[1;34m(self, name)\u001b[0m\n\u001b[0;32m   5982\u001b[0m \u001b[38;5;28;01mif\u001b[39;00m (\n\u001b[0;32m   5983\u001b[0m     name \u001b[38;5;129;01mnot\u001b[39;00m \u001b[38;5;129;01min\u001b[39;00m \u001b[38;5;28mself\u001b[39m\u001b[38;5;241m.\u001b[39m_internal_names_set\n\u001b[0;32m   5984\u001b[0m     \u001b[38;5;129;01mand\u001b[39;00m name \u001b[38;5;129;01mnot\u001b[39;00m \u001b[38;5;129;01min\u001b[39;00m \u001b[38;5;28mself\u001b[39m\u001b[38;5;241m.\u001b[39m_metadata\n\u001b[0;32m   5985\u001b[0m     \u001b[38;5;129;01mand\u001b[39;00m name \u001b[38;5;129;01mnot\u001b[39;00m \u001b[38;5;129;01min\u001b[39;00m \u001b[38;5;28mself\u001b[39m\u001b[38;5;241m.\u001b[39m_accessors\n\u001b[0;32m   5986\u001b[0m     \u001b[38;5;129;01mand\u001b[39;00m \u001b[38;5;28mself\u001b[39m\u001b[38;5;241m.\u001b[39m_info_axis\u001b[38;5;241m.\u001b[39m_can_hold_identifiers_and_holds_name(name)\n\u001b[0;32m   5987\u001b[0m ):\n\u001b[0;32m   5988\u001b[0m     \u001b[38;5;28;01mreturn\u001b[39;00m \u001b[38;5;28mself\u001b[39m[name]\n\u001b[1;32m-> 5989\u001b[0m \u001b[38;5;28;01mreturn\u001b[39;00m \u001b[38;5;28;43mobject\u001b[39;49m\u001b[38;5;241;43m.\u001b[39;49m\u001b[38;5;21;43m__getattribute__\u001b[39;49m\u001b[43m(\u001b[49m\u001b[38;5;28;43mself\u001b[39;49m\u001b[43m,\u001b[49m\u001b[43m \u001b[49m\u001b[43mname\u001b[49m\u001b[43m)\u001b[49m\n",
      "\u001b[1;31mAttributeError\u001b[0m: 'DataFrame' object has no attribute 'get_ave'"
     ]
    }
   ],
   "source": [
    "# Compute Average Variance Extracted (AVE) for each factor\n",
    "stats = calc_stats(model)\n",
    "print(\"Average Variance Extracted (AVE):\\n\", stats.get_ave())"
   ]
  },
  {
   "cell_type": "code",
   "execution_count": null,
   "metadata": {},
   "outputs": [],
   "source": [
    "# Correlating constructs with an external criterion\n",
    "# Assuming 'job_satisfaction' is the external criterion\n",
    "# correlations = data[['NEO[E]', 'NEO[A]', 'job_satisfaction']].corr()\n",
    "# print(correlations)"
   ]
  },
  {
   "cell_type": "code",
   "execution_count": null,
   "metadata": {},
   "outputs": [],
   "source": [
    "# Calculate and print the Fornell-Larcker Criterion and HTMT ratio\n",
    "discriminant_validity = stats.discriminant_validity()\n",
    "htmt_ratio = stats.htmt()\n",
    "print(\"Discriminant Validity (Fornell-Larcker):\\n\", discriminant_validity)\n",
    "print(\"HTMT Ratio:\\n\", htmt_ratio)"
   ]
  },
  {
   "cell_type": "code",
   "execution_count": null,
   "metadata": {},
   "outputs": [],
   "source": [
    "# Calculate Cronbach's Alpha for each construct\n",
    "# Define constructs with their associated items\n",
    "constructs = {\n",
    "    'AILiteracy_Use': ['AILiteracy[Use1]', 'AILiteracy[Use2]', 'AILiteracy[Use3]', 'AILiteracy[Use4]', 'AILiteracy[Use5]', 'AILiteracy[Use6]'],\n",
    "    'AILiteracy_Kno': ['AILiteracy[Kno1]', 'AILiteracy[Kno2]', 'AILiteracy[Kno3]', 'AILiteracy[Kno4]', 'AILiteracy[Kno5]', 'AILiteracy[Kno6]'],\n",
    "    'AILiteracy_Det': ['AILiteracy[Det1]', 'AILiteracy[Det2]', 'AILiteracy[Det3]'],\n",
    "    'AILiteracy_Eth': ['AILiteracy[Eth1]', 'AILiteracy[Eth3]'],\n",
    "    'PGAT': ['PGAT[PGAT1]', 'PGAT[PGAT2]', 'PGAT[PGAT3]'],\n",
    "    'NGAT': ['NGAT[NGAT1]', 'NGAT[NGAT2]', 'NGAT[NGAT3]'],\n",
    "    'CMV': ['CMV[SQ001]', 'CMV[SQ002]', 'CMV[SQ003]'],\n",
    "    'NEO_E': ['NEO[E1R]', 'NEO[E2]', 'NEO[E3R]', 'NEO[E4]'],\n",
    "    'NEO_A': ['NEO[V1R]', 'NEO[V2]', 'NEO[V3R]', 'NEO[V4R]'],\n",
    "    'NEO_C': ['NEO[G1]', 'NEO[G2R]', 'NEO[G3]', 'NEO[G4]'],\n",
    "    'NEO_N': ['NEO[N1]', 'NEO[N2R]', 'NEO[N3]', 'NEO[N4]'],\n",
    "    'NEO_O': ['NEO[O1]', 'NEO[O2]', 'NEO[O3]', 'NEO[O4]', 'NEO[O5R]'],\n",
    "    'JC1_IStR': ['JC1[IStR1]', 'JC1[IStR2]', 'JC1[IStR3]', 'JC1[IStR4]', 'JC1[IStR5]'],\n",
    "    'JC1_HRJD': ['JC1[HRJD1]', 'JC1[HRJD2]', 'JC1[HRJD3]'],\n",
    "    'JC2_IStR': ['JC2[2IStR1]', 'JC2[2IStR2]', 'JC2[2IStR3]', 'JC2[2IStR4]', 'JC2[2IStR5]'],\n",
    "    'JC2_HRJD': ['JC2[2HRJD1]', 'JC2[2HRJD2]', 'JC2[2HRJD5]', 'JC2[2HRJD6]'],\n",
    "    'JC_IStR': ['JC1[IStR1]', 'JC1[IStR2]', 'JC1[IStR3]', 'JC1[IStR4]', 'JC1[IStR5]', 'JC2[2IStR1]', 'JC2[2IStR2]', 'JC2[2IStR3]', 'JC2[2IStR4]', 'JC2[2IStR5]'],\n",
    "    'JC_HRJD': ['JC1[HRJD1]', 'JC1[HRJD2]', 'JC1[HRJD3]', 'JC2[2HRJD1]', 'JC2[2HRJD2]', 'JC2[2HRJD5]', 'JC2[2HRJD6]']\n",
    "}\n",
    "\n",
    "# Calculate Cronbach's Alpha for each construct\n",
    "for name, items in constructs.items():\n",
    "    alpha, _ = pg.cronbach_alpha(data=data[items])\n",
    "    print(f\"Cronbach's Alpha for {name}: {alpha:.3f}\")"
   ]
  },
  {
   "cell_type": "code",
   "execution_count": 81,
   "metadata": {},
   "outputs": [
    {
     "ename": "AttributeError",
     "evalue": "'DataFrame' object has no attribute 'get_crb'",
     "output_type": "error",
     "traceback": [
      "\u001b[1;31m---------------------------------------------------------------------------\u001b[0m",
      "\u001b[1;31mAttributeError\u001b[0m                            Traceback (most recent call last)",
      "Cell \u001b[1;32mIn[81], line 2\u001b[0m\n\u001b[0;32m      1\u001b[0m \u001b[38;5;66;03m# Calculate Composite Reliability\u001b[39;00m\n\u001b[1;32m----> 2\u001b[0m composite_reliability \u001b[38;5;241m=\u001b[39m \u001b[43mstats\u001b[49m\u001b[38;5;241;43m.\u001b[39;49m\u001b[43mget_crb\u001b[49m()\n\u001b[0;32m      3\u001b[0m \u001b[38;5;28mprint\u001b[39m(\u001b[38;5;124m\"\u001b[39m\u001b[38;5;124mComposite Reliability:\u001b[39m\u001b[38;5;130;01m\\n\u001b[39;00m\u001b[38;5;124m\"\u001b[39m, composite_reliability)\n",
      "File \u001b[1;32mc:\\Users\\franc\\anaconda3\\envs\\MTGAI\\lib\\site-packages\\pandas\\core\\generic.py:5989\u001b[0m, in \u001b[0;36mNDFrame.__getattr__\u001b[1;34m(self, name)\u001b[0m\n\u001b[0;32m   5982\u001b[0m \u001b[38;5;28;01mif\u001b[39;00m (\n\u001b[0;32m   5983\u001b[0m     name \u001b[38;5;129;01mnot\u001b[39;00m \u001b[38;5;129;01min\u001b[39;00m \u001b[38;5;28mself\u001b[39m\u001b[38;5;241m.\u001b[39m_internal_names_set\n\u001b[0;32m   5984\u001b[0m     \u001b[38;5;129;01mand\u001b[39;00m name \u001b[38;5;129;01mnot\u001b[39;00m \u001b[38;5;129;01min\u001b[39;00m \u001b[38;5;28mself\u001b[39m\u001b[38;5;241m.\u001b[39m_metadata\n\u001b[0;32m   5985\u001b[0m     \u001b[38;5;129;01mand\u001b[39;00m name \u001b[38;5;129;01mnot\u001b[39;00m \u001b[38;5;129;01min\u001b[39;00m \u001b[38;5;28mself\u001b[39m\u001b[38;5;241m.\u001b[39m_accessors\n\u001b[0;32m   5986\u001b[0m     \u001b[38;5;129;01mand\u001b[39;00m \u001b[38;5;28mself\u001b[39m\u001b[38;5;241m.\u001b[39m_info_axis\u001b[38;5;241m.\u001b[39m_can_hold_identifiers_and_holds_name(name)\n\u001b[0;32m   5987\u001b[0m ):\n\u001b[0;32m   5988\u001b[0m     \u001b[38;5;28;01mreturn\u001b[39;00m \u001b[38;5;28mself\u001b[39m[name]\n\u001b[1;32m-> 5989\u001b[0m \u001b[38;5;28;01mreturn\u001b[39;00m \u001b[38;5;28;43mobject\u001b[39;49m\u001b[38;5;241;43m.\u001b[39;49m\u001b[38;5;21;43m__getattribute__\u001b[39;49m\u001b[43m(\u001b[49m\u001b[38;5;28;43mself\u001b[39;49m\u001b[43m,\u001b[49m\u001b[43m \u001b[49m\u001b[43mname\u001b[49m\u001b[43m)\u001b[49m\n",
      "\u001b[1;31mAttributeError\u001b[0m: 'DataFrame' object has no attribute 'get_crb'"
     ]
    }
   ],
   "source": [
    "# Calculate Composite Reliability\n",
    "composite_reliability = stats.get_crb()\n",
    "print(\"Composite Reliability:\\n\", composite_reliability)"
   ]
  },
  {
   "cell_type": "code",
   "execution_count": null,
   "metadata": {},
   "outputs": [],
   "source": [
    "# Mardia's Test for multivariate normality\n",
    "mn_kurtosis, mn_skewness = mardia(data)\n",
    "print(f\"Mardia's Multivariate Kurtosis: {mn_kurtosis}, Skewness: {mn_skewness}\")"
   ]
  },
  {
   "cell_type": "code",
   "execution_count": null,
   "metadata": {},
   "outputs": [],
   "source": [
    "# Mahalanobis distance for detecting outliers\n",
    "cov = EmpiricalCovariance().fit(data)\n",
    "mdist = cov.mahalanobis(data)\n",
    "chi2_thresh = chi2.ppf((1-0.01), df=len(data.columns)) # 99% confidence level\n",
    "outliers = mdist > chi2_thresh\n",
    "print(f\"Outliers detected: {np.sum(outliers)}\")"
   ]
  },
  {
   "cell_type": "code",
   "execution_count": null,
   "metadata": {},
   "outputs": [],
   "source": [
    "# Variance Inflation Factor (VIF)\n",
    "vif_data = pd.DataFrame()\n",
    "vif_data[\"feature\"] = data.columns\n",
    "vif_data[\"VIF\"] = [variance_inflation_factor(data.values, i) for i in range(data.shape[1])]\n",
    "print(vif_data)"
   ]
  }
 ],
 "metadata": {
  "kernelspec": {
   "display_name": "base",
   "language": "python",
   "name": "python3"
  },
  "language_info": {
   "codemirror_mode": {
    "name": "ipython",
    "version": 3
   },
   "file_extension": ".py",
   "mimetype": "text/x-python",
   "name": "python",
   "nbconvert_exporter": "python",
   "pygments_lexer": "ipython3",
   "version": "3.8.19"
  }
 },
 "nbformat": 4,
 "nbformat_minor": 2
}
