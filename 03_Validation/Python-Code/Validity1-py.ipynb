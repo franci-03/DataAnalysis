{
 "cells": [
  {
   "cell_type": "markdown",
   "metadata": {},
   "source": [
    "# Script 1 - Validity"
   ]
  },
  {
   "cell_type": "code",
   "execution_count": 1,
   "metadata": {},
   "outputs": [
    {
     "name": "stdout",
     "output_type": "stream",
     "text": [
      "Hello\n"
     ]
    }
   ],
   "source": [
    "# Import necessary libraries\n",
    "import pandas as pd\n",
    "from factor_analyzer import FactorAnalyzer\n",
    "from factor_analyzer.factor_analyzer import calculate_bartlett_sphericity, calculate_kmo\n",
    "import semopy\n",
    "\n",
    "# Assuming 'data' is your DataFrame and it's already cleaned for missing values and properly encoded\n",
    "\n",
    "# Load the dataset\n",
    "data = pd.read_csv('path_to_your_dataset.csv')\n",
    "\n",
    "# Preliminary data inspection\n",
    "print(data.head())\n",
    "print(data.describe())\n",
    "\n",
    "# Check for suitability of data for factor analysis\n",
    "chi_square_value, p_value = calculate_bartlett_sphericity(data)\n",
    "kmo_all, kmo_model = calculate_kmo(data)\n",
    "print(f\"Bartlett’s test chi-square value: {chi_square_value}, p-value: {p_value}\")\n",
    "print(f\"KMO test value: {kmo_model}\")\n",
    "\n",
    "# For CFA, using SEMOPY for a more detailed analysis\n",
    "model_desc = \"\"\"\n",
    "# Specify your model structure here based on your constructs and items\n",
    "JobCrafting =~ item1 + item2 + item3\n",
    "BigFive =~ item4 + item5 + item6\n",
    "GenAIImpact =~ item7 + item8 + item9\n",
    "\"\"\"\n",
    "model = semopy.Model(model_desc)\n",
    "res = model.fit(data)\n",
    "estimates = model.inspect()\n",
    "print(estimates)\n",
    "\n",
    "# Evaluate Model Fit\n",
    "stats = semopy.calc_stats(model)\n",
    "print(stats)\n",
    "\n",
    "# Criterion Validity using SEMOPY or alternative methods not directly provided but hinted at for future analysis\n",
    "\n",
    "## For Convergent and Discriminant Validity Assessment\n",
    "# Assuming 'model' is the fitted SEMOPY model\n",
    "from semopy import utils\n",
    "# Extracting factor loadings and computing AVE for each construct\n",
    "loads = utils.loadings(model)\n",
    "ave_values = {factor: loads.loc[loads['factor'] == factor, 'loading'].pow(2).mean() for factor in loads['factor'].unique()}\n",
    "print(\"AVE values:\", ave_values)\n",
    "\n",
    "# This section should be expanded upon with real data, including calculation of Fornell-Larcker criterion or HTMT for discriminant validity.\n",
    "\n",
    "# This script requires adaptation based on specific item labels in your dataset and is designed to work with SEMOPY for a detailed CFA.\n"
   ]
  }
 ],
 "metadata": {
  "kernelspec": {
   "display_name": "base",
   "language": "python",
   "name": "python3"
  },
  "language_info": {
   "codemirror_mode": {
    "name": "ipython",
    "version": 3
   },
   "file_extension": ".py",
   "mimetype": "text/x-python",
   "name": "python",
   "nbconvert_exporter": "python",
   "pygments_lexer": "ipython3",
   "version": "3.9.13"
  }
 },
 "nbformat": 4,
 "nbformat_minor": 2
}
