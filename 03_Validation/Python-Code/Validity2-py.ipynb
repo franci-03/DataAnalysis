{
 "cells": [
  {
   "cell_type": "markdown",
   "metadata": {},
   "source": [
    "# Script 2 - Validity"
   ]
  },
  {
   "cell_type": "code",
   "execution_count": null,
   "metadata": {},
   "outputs": [],
   "source": [
    "import pandas as pd\n",
    "from sklearn.decomposition import FactorAnalysis\n",
    "from factor_analyzer import calculate_bartlett_sphericity, calculate_kmo, calculate_rmsea\n",
    "from factor_analyzer import Rotatorfrom factor_analyzer import ConfirmatoryFactorAnalyzer\n",
    "\n",
    "data = pd.read_csv('data.csv')\n",
    "\n",
    "\n",
    "# Select the observed variables and remove missing values\n",
    "X = data.iloc[:, 1:]\n",
    "X = X.dropna()     \n",
    "\n",
    "\n",
    "model = ConfirmatoryFactorAnalyzer(n_factors=3, \n",
    "                                    method='ml', \n",
    "                                   rotate='varimax')    \n",
    "\n",
    "# Estimate the model\n",
    "model.fit(X)    \n",
    "\n",
    "print('Bartlett sphericity test:', calculate_bartlett_sphericity(X)\n",
    "print('Kaiser-Meyer-Olkin test:', calculate_kmo(X))\n",
    "print('RMSEA:', calculate_rmsea(X))\n",
    "print('CFI:', calculate_cfi(X))\n",
    "print('TLI:', calculate_tli(X)))\n",
    "\n",
    "model.modify(n_factors=4) # Add a factor\n",
    "model.fit(X) # Re-estimate the model\n",
    "print('RMSEA (modified model):', calculate_rmsea(X)) "
   ]
  }
 ],
 "metadata": {
  "language_info": {
   "name": "python"
  }
 },
 "nbformat": 4,
 "nbformat_minor": 2
}
