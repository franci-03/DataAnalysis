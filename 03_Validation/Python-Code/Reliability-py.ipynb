{
 "cells": [
  {
   "cell_type": "code",
   "execution_count": null,
   "metadata": {},
   "outputs": [],
   "source": [
    "import pandas as pd\n",
    "import numpy as np\n",
    "from pingouin import cronbach_alpha\n",
    "from semopy import Model\n",
    "\n",
    "# Load your dataset\n",
    "data = pd.read_csv('path_to_your_data.csv')\n",
    "\n",
    "# Define your model based on the constructs and items\n",
    "model_desc = \"\"\"\n",
    "# Example of model specification, adjust based on actual items\n",
    "JobCrafting =~ jc1 + jc2 + jc3 + jc4\n",
    "Openness =~ open1 + open2 + open3 + open4\n",
    "Conscientiousness =~ consc1 + consc2 + consc3 + consc4\n",
    "Extraversion =~ extra1 + extra2 + extra3 + extra4\n",
    "Agreeableness =~ agree1 + agree2 + agree3 + agree4\n",
    "Neuroticism =~ neuro1 + neuro2 + neuro3 + neuro4\n",
    "GenAIUse =~ gai1 + gai2 + gai3 + gai4\n",
    "\"\"\"\n",
    "\n",
    "# Initialize and fit the model\n",
    "mod = Model(model_desc)\n",
    "mod.fit(data)\n",
    "\n",
    "# Get estimated parameters\n",
    "params = mod.inspect()\n",
    "\n",
    "# Calculate Composite Reliability (CR)\n",
    "def calculate_composite_reliability(params, construct):\n",
    "    # Extract factor loadings for the construct\n",
    "    loadings = params.loc[(params['op'] == '~') & (params['lval'].str.contains(f'^{construct}$')), 'Estimate'].values\n",
    "    # Calculate squared loadings (numerator)\n",
    "    lambda_squared = np.sum(loadings ** 2)\n",
    "    # Calculate error variances for each item (denominator part)\n",
    "    error_variances = 1 - (loadings ** 2)\n",
    "    vartheta_sum = np.sum(error_variances)\n",
    "    # Calculate CR\n",
    "    cr = lambda_squared / (lambda_squared + vartheta_sum)\n",
    "    return cr\n",
    "\n",
    "# Loop through constructs to calculate Cronbach's Alpha and CR\n",
    "constructs = ['JobCrafting', 'Openness', 'Conscientiousness', 'Extraversion', 'Agreeableness', 'Neuroticism', 'GenAIUse']\n",
    "for construct in constructs:\n",
    "    items = [col for col in data.columns if construct.lower() in col.lower()]\n",
    "    alpha = cronbach_alpha(data[items])[0]\n",
    "    print(f\"Cronbach's Alpha for {construct}: {alpha:.3f}\")\n",
    "    \n",
    "    cr = calculate_composite_reliability(params, construct)\n",
    "    print(f\"Composite Reliability for {construct}: {cr:.3f}\")\n"
   ]
  }
 ],
 "metadata": {
  "language_info": {
   "name": "python"
  }
 },
 "nbformat": 4,
 "nbformat_minor": 2
}
